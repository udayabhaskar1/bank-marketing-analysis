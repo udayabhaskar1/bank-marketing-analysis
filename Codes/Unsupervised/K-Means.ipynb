{
 "cells": [
  {
   "cell_type": "code",
   "execution_count": 51,
   "metadata": {},
   "outputs": [],
   "source": [
    "import numpy as np\n",
    "import pandas as pd\n",
    "import seaborn as sns\n",
    "import matplotlib.pyplot as plt\n",
    "from sklearn import datasets\n",
    "from sklearn.cluster import KMeans"
   ]
  },
  {
   "cell_type": "code",
   "execution_count": 52,
   "metadata": {},
   "outputs": [
    {
     "data": {
      "text/html": [
       "<div>\n",
       "<style scoped>\n",
       "    .dataframe tbody tr th:only-of-type {\n",
       "        vertical-align: middle;\n",
       "    }\n",
       "\n",
       "    .dataframe tbody tr th {\n",
       "        vertical-align: top;\n",
       "    }\n",
       "\n",
       "    .dataframe thead th {\n",
       "        text-align: right;\n",
       "    }\n",
       "</style>\n",
       "<table border=\"1\" class=\"dataframe\">\n",
       "  <thead>\n",
       "    <tr style=\"text-align: right;\">\n",
       "      <th></th>\n",
       "      <th>fixed acidity</th>\n",
       "      <th>volatile acidity</th>\n",
       "      <th>citric acid</th>\n",
       "      <th>residual sugar</th>\n",
       "      <th>chlorides</th>\n",
       "      <th>free sulfur dioxide</th>\n",
       "      <th>total sulfur dioxide</th>\n",
       "      <th>density</th>\n",
       "      <th>pH</th>\n",
       "      <th>sulphates</th>\n",
       "      <th>alcohol</th>\n",
       "      <th>quality</th>\n",
       "    </tr>\n",
       "  </thead>\n",
       "  <tbody>\n",
       "    <tr>\n",
       "      <th>0</th>\n",
       "      <td>7.0</td>\n",
       "      <td>0.27</td>\n",
       "      <td>0.36</td>\n",
       "      <td>20.7</td>\n",
       "      <td>0.045</td>\n",
       "      <td>45.0</td>\n",
       "      <td>170.0</td>\n",
       "      <td>1.0010</td>\n",
       "      <td>3.00</td>\n",
       "      <td>0.45</td>\n",
       "      <td>8.8</td>\n",
       "      <td>6</td>\n",
       "    </tr>\n",
       "    <tr>\n",
       "      <th>1</th>\n",
       "      <td>6.3</td>\n",
       "      <td>0.30</td>\n",
       "      <td>0.34</td>\n",
       "      <td>1.6</td>\n",
       "      <td>0.049</td>\n",
       "      <td>14.0</td>\n",
       "      <td>132.0</td>\n",
       "      <td>0.9940</td>\n",
       "      <td>3.30</td>\n",
       "      <td>0.49</td>\n",
       "      <td>9.5</td>\n",
       "      <td>6</td>\n",
       "    </tr>\n",
       "    <tr>\n",
       "      <th>2</th>\n",
       "      <td>8.1</td>\n",
       "      <td>0.28</td>\n",
       "      <td>0.40</td>\n",
       "      <td>6.9</td>\n",
       "      <td>0.050</td>\n",
       "      <td>30.0</td>\n",
       "      <td>97.0</td>\n",
       "      <td>0.9951</td>\n",
       "      <td>3.26</td>\n",
       "      <td>0.44</td>\n",
       "      <td>10.1</td>\n",
       "      <td>6</td>\n",
       "    </tr>\n",
       "    <tr>\n",
       "      <th>3</th>\n",
       "      <td>7.2</td>\n",
       "      <td>0.23</td>\n",
       "      <td>0.32</td>\n",
       "      <td>8.5</td>\n",
       "      <td>0.058</td>\n",
       "      <td>47.0</td>\n",
       "      <td>186.0</td>\n",
       "      <td>0.9956</td>\n",
       "      <td>3.19</td>\n",
       "      <td>0.40</td>\n",
       "      <td>9.9</td>\n",
       "      <td>6</td>\n",
       "    </tr>\n",
       "    <tr>\n",
       "      <th>4</th>\n",
       "      <td>7.2</td>\n",
       "      <td>0.23</td>\n",
       "      <td>0.32</td>\n",
       "      <td>8.5</td>\n",
       "      <td>0.058</td>\n",
       "      <td>47.0</td>\n",
       "      <td>186.0</td>\n",
       "      <td>0.9956</td>\n",
       "      <td>3.19</td>\n",
       "      <td>0.40</td>\n",
       "      <td>9.9</td>\n",
       "      <td>6</td>\n",
       "    </tr>\n",
       "  </tbody>\n",
       "</table>\n",
       "</div>"
      ],
      "text/plain": [
       "   fixed acidity  volatile acidity  citric acid  residual sugar  chlorides  \\\n",
       "0            7.0              0.27         0.36            20.7      0.045   \n",
       "1            6.3              0.30         0.34             1.6      0.049   \n",
       "2            8.1              0.28         0.40             6.9      0.050   \n",
       "3            7.2              0.23         0.32             8.5      0.058   \n",
       "4            7.2              0.23         0.32             8.5      0.058   \n",
       "\n",
       "   free sulfur dioxide  total sulfur dioxide  density    pH  sulphates  \\\n",
       "0                 45.0                 170.0   1.0010  3.00       0.45   \n",
       "1                 14.0                 132.0   0.9940  3.30       0.49   \n",
       "2                 30.0                  97.0   0.9951  3.26       0.44   \n",
       "3                 47.0                 186.0   0.9956  3.19       0.40   \n",
       "4                 47.0                 186.0   0.9956  3.19       0.40   \n",
       "\n",
       "   alcohol  quality  \n",
       "0      8.8        6  \n",
       "1      9.5        6  \n",
       "2     10.1        6  \n",
       "3      9.9        6  \n",
       "4      9.9        6  "
      ]
     },
     "execution_count": 52,
     "metadata": {},
     "output_type": "execute_result"
    }
   ],
   "source": [
    "#Read CSV File for processing\n",
    "df = pd.read_csv(r'C:\\Users\\Mew\\Desktop\\Untitled Folder\\winequality-white.csv').dropna()\n",
    "df.head()"
   ]
  },
  {
   "cell_type": "code",
   "execution_count": 53,
   "metadata": {},
   "outputs": [
    {
     "data": {
      "image/png": "[encoded data removed]",
      "text/plain": [
       "<Figure size 432x288 with 1 Axes>"
      ]
     },
     "metadata": {
      "needs_background": "light"
     },
     "output_type": "display_data"
    }
   ],
   "source": [
    "#For this first round, we attempt to do balancing\n",
    "\n",
    "plt.figure()\n",
    "\n",
    "sns.countplot('quality', data=df)\n",
    "\n",
    "plt.title('raw')\n",
    "\n",
    "plt.show()"
   ]
  },
  {
   "cell_type": "code",
   "execution_count": 54,
   "metadata": {},
   "outputs": [
    {
     "data": {
      "text/plain": [
       "6    2198\n",
       "5    1457\n",
       "7     880\n",
       "8     175\n",
       "4     163\n",
       "3      20\n",
       "9       5\n",
       "Name: quality, dtype: int64"
      ]
     },
     "execution_count": 54,
     "metadata": {},
     "output_type": "execute_result"
    }
   ],
   "source": [
    "df.quality.value_counts()"
   ]
  },
  {
   "cell_type": "code",
   "execution_count": 55,
   "metadata": {},
   "outputs": [
    {
     "data": {
      "text/plain": [
       "6.0    2198\n",
       "5.0    1457\n",
       "7.0     880\n",
       "8.0     175\n",
       "4.0     163\n",
       "Name: quality, dtype: int64"
      ]
     },
     "execution_count": 55,
     "metadata": {},
     "output_type": "execute_result"
    }
   ],
   "source": [
    "#From graph, qualities 3 and 9 are too small. Therefore we do a mapping to convert them for dropping\n",
    "\n",
    "dict_quality= {\n",
    "    4: 4,\n",
    "    5: 5,\n",
    "    6: 6,\n",
    "    7: 7,\n",
    "    8: 8\n",
    "}\n",
    "\n",
    "df['quality'] = df['quality'].map(dict_quality)\n",
    "\n",
    "#drop NaN columns\n",
    "df = df.dropna()\n",
    "\n",
    "df.quality.value_counts()"
   ]
  },
  {
   "cell_type": "code",
   "execution_count": 56,
   "metadata": {},
   "outputs": [
    {
     "data": {
      "image/png": "[encoded data removed]",
      "text/plain": [
       "<Figure size 432x288 with 1 Axes>"
      ]
     },
     "metadata": {
      "needs_background": "light"
     },
     "output_type": "display_data"
    }
   ],
   "source": [
    "# Shuffle the Dataset.\n",
    "shuffled_df = df.sample(frac=1,random_state=4)\n",
    "\n",
    "# Put all the minority class in a separate dataset.\n",
    "q4_df = shuffled_df.loc[shuffled_df['quality'] == 4]\n",
    "\n",
    "#Randomly select ? observations from the majority classes\n",
    "q5_df = shuffled_df.loc[shuffled_df['quality'] == 5].sample(n = 163,random_state=42)\n",
    "\n",
    "q6_df = shuffled_df.loc[shuffled_df['quality'] == 6].sample(n = 163,random_state=42)\n",
    "\n",
    "q7_df = shuffled_df.loc[shuffled_df['quality'] == 7].sample(n = 163,random_state=42)\n",
    "\n",
    "q8_df = shuffled_df.loc[shuffled_df['quality'] == 8].sample(n = 163,random_state=42)\n",
    "\n",
    "\n",
    "# Concatenate both dataframes again\n",
    "normalized_df = pd.concat([q4_df, q5_df, q6_df, q7_df, q8_df])\n",
    "\n",
    "plt.figure()\n",
    "\n",
    "sns.countplot('quality', data=normalized_df)\n",
    "\n",
    "plt.title('balanced')\n",
    "\n",
    "plt.show()"
   ]
  },
  {
   "cell_type": "code",
   "execution_count": 57,
   "metadata": {},
   "outputs": [
    {
     "data": {
      "image/png": "[encoded data removed]",
      "text/plain": [
       "<Figure size 432x288 with 2 Axes>"
      ]
     },
     "metadata": {
      "needs_background": "light"
     },
     "output_type": "display_data"
    }
   ],
   "source": [
    "fig = plt.figure()\n",
    "ax1 = fig.add_subplot(111)\n",
    "\n",
    "cax = ax1.imshow(normalized_df.corr(), interpolation=\"nearest\")\n",
    "ax1.grid(True)\n",
    "plt.title('Correlation ')\n",
    "labels=['fixed acidity','volatile acidity','citric acid','residual sugar','chlorides','free sulfur dioxide','total sulfur dioxide','density','pH','sulphates','alcohol','quality',]\n",
    "ax1.set_xticklabels(labels,fontsize=6)\n",
    "ax1.set_yticklabels(labels,fontsize=6)\n",
    "# Add colorbar, make sure to specify tick locations to match desired ticklabels\n",
    "fig.colorbar(cax, ticks=[-0.4,0,.4,.6,.8,.9,1])\n",
    "plt.show()"
   ]
  },
  {
   "cell_type": "code",
   "execution_count": 59,
   "metadata": {},
   "outputs": [
    {
     "data": {
      "text/html": [
       "<div>\n",
       "<style scoped>\n",
       "    .dataframe tbody tr th:only-of-type {\n",
       "        vertical-align: middle;\n",
       "    }\n",
       "\n",
       "    .dataframe tbody tr th {\n",
       "        vertical-align: top;\n",
       "    }\n",
       "\n",
       "    .dataframe thead th {\n",
       "        text-align: right;\n",
       "    }\n",
       "</style>\n",
       "<table border=\"1\" class=\"dataframe\">\n",
       "  <thead>\n",
       "    <tr style=\"text-align: right;\">\n",
       "      <th></th>\n",
       "      <th>fixed acidity</th>\n",
       "      <th>volatile acidity</th>\n",
       "      <th>citric acid</th>\n",
       "      <th>residual sugar</th>\n",
       "      <th>chlorides</th>\n",
       "      <th>free sulfur dioxide</th>\n",
       "      <th>total sulfur dioxide</th>\n",
       "      <th>density</th>\n",
       "      <th>pH</th>\n",
       "      <th>sulphates</th>\n",
       "      <th>alcohol</th>\n",
       "      <th>quality</th>\n",
       "    </tr>\n",
       "  </thead>\n",
       "  <tbody>\n",
       "    <tr>\n",
       "      <th>fixed acidity</th>\n",
       "      <td>1.000000</td>\n",
       "      <td>0.016584</td>\n",
       "      <td>0.329899</td>\n",
       "      <td>0.056514</td>\n",
       "      <td>0.060271</td>\n",
       "      <td>-0.050574</td>\n",
       "      <td>0.089945</td>\n",
       "      <td>0.290890</td>\n",
       "      <td>-0.452254</td>\n",
       "      <td>-0.034397</td>\n",
       "      <td>-0.178733</td>\n",
       "      <td>-0.149701</td>\n",
       "    </tr>\n",
       "    <tr>\n",
       "      <th>volatile acidity</th>\n",
       "      <td>0.016584</td>\n",
       "      <td>1.000000</td>\n",
       "      <td>-0.224522</td>\n",
       "      <td>-0.030362</td>\n",
       "      <td>0.120079</td>\n",
       "      <td>-0.187926</td>\n",
       "      <td>-0.008338</td>\n",
       "      <td>-0.017716</td>\n",
       "      <td>-0.020118</td>\n",
       "      <td>-0.091873</td>\n",
       "      <td>0.075972</td>\n",
       "      <td>-0.270637</td>\n",
       "    </tr>\n",
       "    <tr>\n",
       "      <th>citric acid</th>\n",
       "      <td>0.329899</td>\n",
       "      <td>-0.224522</td>\n",
       "      <td>1.000000</td>\n",
       "      <td>0.098169</td>\n",
       "      <td>-0.013620</td>\n",
       "      <td>0.085717</td>\n",
       "      <td>0.132832</td>\n",
       "      <td>0.123602</td>\n",
       "      <td>-0.142096</td>\n",
       "      <td>0.080407</td>\n",
       "      <td>-0.007040</td>\n",
       "      <td>0.055588</td>\n",
       "    </tr>\n",
       "    <tr>\n",
       "      <th>residual sugar</th>\n",
       "      <td>0.056514</td>\n",
       "      <td>-0.030362</td>\n",
       "      <td>0.098169</td>\n",
       "      <td>1.000000</td>\n",
       "      <td>0.165737</td>\n",
       "      <td>0.307634</td>\n",
       "      <td>0.410608</td>\n",
       "      <td>0.800518</td>\n",
       "      <td>-0.202572</td>\n",
       "      <td>-0.044165</td>\n",
       "      <td>-0.447238</td>\n",
       "      <td>-0.007361</td>\n",
       "    </tr>\n",
       "    <tr>\n",
       "      <th>chlorides</th>\n",
       "      <td>0.060271</td>\n",
       "      <td>0.120079</td>\n",
       "      <td>-0.013620</td>\n",
       "      <td>0.165737</td>\n",
       "      <td>1.000000</td>\n",
       "      <td>0.006899</td>\n",
       "      <td>0.249668</td>\n",
       "      <td>0.336599</td>\n",
       "      <td>-0.095332</td>\n",
       "      <td>0.049257</td>\n",
       "      <td>-0.387237</td>\n",
       "      <td>-0.252224</td>\n",
       "    </tr>\n",
       "    <tr>\n",
       "      <th>free sulfur dioxide</th>\n",
       "      <td>-0.050574</td>\n",
       "      <td>-0.187926</td>\n",
       "      <td>0.085717</td>\n",
       "      <td>0.307634</td>\n",
       "      <td>0.006899</td>\n",
       "      <td>1.000000</td>\n",
       "      <td>0.609156</td>\n",
       "      <td>0.253535</td>\n",
       "      <td>0.009701</td>\n",
       "      <td>0.159906</td>\n",
       "      <td>-0.174681</td>\n",
       "      <td>0.193370</td>\n",
       "    </tr>\n",
       "    <tr>\n",
       "      <th>total sulfur dioxide</th>\n",
       "      <td>0.089945</td>\n",
       "      <td>-0.008338</td>\n",
       "      <td>0.132832</td>\n",
       "      <td>0.410608</td>\n",
       "      <td>0.249668</td>\n",
       "      <td>0.609156</td>\n",
       "      <td>1.000000</td>\n",
       "      <td>0.547447</td>\n",
       "      <td>0.029441</td>\n",
       "      <td>0.157182</td>\n",
       "      <td>-0.467077</td>\n",
       "      <td>-0.091645</td>\n",
       "    </tr>\n",
       "    <tr>\n",
       "      <th>density</th>\n",
       "      <td>0.290890</td>\n",
       "      <td>-0.017716</td>\n",
       "      <td>0.123602</td>\n",
       "      <td>0.800518</td>\n",
       "      <td>0.336599</td>\n",
       "      <td>0.253535</td>\n",
       "      <td>0.547447</td>\n",
       "      <td>1.000000</td>\n",
       "      <td>-0.094401</td>\n",
       "      <td>0.065005</td>\n",
       "      <td>-0.821279</td>\n",
       "      <td>-0.320873</td>\n",
       "    </tr>\n",
       "    <tr>\n",
       "      <th>pH</th>\n",
       "      <td>-0.452254</td>\n",
       "      <td>-0.020118</td>\n",
       "      <td>-0.142096</td>\n",
       "      <td>-0.202572</td>\n",
       "      <td>-0.095332</td>\n",
       "      <td>0.009701</td>\n",
       "      <td>0.029441</td>\n",
       "      <td>-0.094401</td>\n",
       "      <td>1.000000</td>\n",
       "      <td>0.198060</td>\n",
       "      <td>0.109663</td>\n",
       "      <td>0.093974</td>\n",
       "    </tr>\n",
       "    <tr>\n",
       "      <th>sulphates</th>\n",
       "      <td>-0.034397</td>\n",
       "      <td>-0.091873</td>\n",
       "      <td>0.080407</td>\n",
       "      <td>-0.044165</td>\n",
       "      <td>0.049257</td>\n",
       "      <td>0.159906</td>\n",
       "      <td>0.157182</td>\n",
       "      <td>0.065005</td>\n",
       "      <td>0.198060</td>\n",
       "      <td>1.000000</td>\n",
       "      <td>-0.021512</td>\n",
       "      <td>0.028819</td>\n",
       "    </tr>\n",
       "    <tr>\n",
       "      <th>alcohol</th>\n",
       "      <td>-0.178733</td>\n",
       "      <td>0.075972</td>\n",
       "      <td>-0.007040</td>\n",
       "      <td>-0.447238</td>\n",
       "      <td>-0.387237</td>\n",
       "      <td>-0.174681</td>\n",
       "      <td>-0.467077</td>\n",
       "      <td>-0.821279</td>\n",
       "      <td>0.109663</td>\n",
       "      <td>-0.021512</td>\n",
       "      <td>1.000000</td>\n",
       "      <td>0.484688</td>\n",
       "    </tr>\n",
       "    <tr>\n",
       "      <th>quality</th>\n",
       "      <td>-0.149701</td>\n",
       "      <td>-0.270637</td>\n",
       "      <td>0.055588</td>\n",
       "      <td>-0.007361</td>\n",
       "      <td>-0.252224</td>\n",
       "      <td>0.193370</td>\n",
       "      <td>-0.091645</td>\n",
       "      <td>-0.320873</td>\n",
       "      <td>0.093974</td>\n",
       "      <td>0.028819</td>\n",
       "      <td>0.484688</td>\n",
       "      <td>1.000000</td>\n",
       "    </tr>\n",
       "  </tbody>\n",
       "</table>\n",
       "</div>"
      ],
      "text/plain": [
       "                      fixed acidity  volatile acidity  citric acid  \\\n",
       "fixed acidity              1.000000          0.016584     0.329899   \n",
       "volatile acidity           0.016584          1.000000    -0.224522   \n",
       "citric acid                0.329899         -0.224522     1.000000   \n",
       "residual sugar             0.056514         -0.030362     0.098169   \n",
       "chlorides                  0.060271          0.120079    -0.013620   \n",
       "free sulfur dioxide       -0.050574         -0.187926     0.085717   \n",
       "total sulfur dioxide       0.089945         -0.008338     0.132832   \n",
       "density                    0.290890         -0.017716     0.123602   \n",
       "pH                        -0.452254         -0.020118    -0.142096   \n",
       "sulphates                 -0.034397         -0.091873     0.080407   \n",
       "alcohol                   -0.178733          0.075972    -0.007040   \n",
       "quality                   -0.149701         -0.270637     0.055588   \n",
       "\n",
       "                      residual sugar  chlorides  free sulfur dioxide  \\\n",
       "fixed acidity               0.056514   0.060271            -0.050574   \n",
       "volatile acidity           -0.030362   0.120079            -0.187926   \n",
       "citric acid                 0.098169  -0.013620             0.085717   \n",
       "residual sugar              1.000000   0.165737             0.307634   \n",
       "chlorides                   0.165737   1.000000             0.006899   \n",
       "free sulfur dioxide         0.307634   0.006899             1.000000   \n",
       "total sulfur dioxide        0.410608   0.249668             0.609156   \n",
       "density                     0.800518   0.336599             0.253535   \n",
       "pH                         -0.202572  -0.095332             0.009701   \n",
       "sulphates                  -0.044165   0.049257             0.159906   \n",
       "alcohol                    -0.447238  -0.387237            -0.174681   \n",
       "quality                    -0.007361  -0.252224             0.193370   \n",
       "\n",
       "                      total sulfur dioxide   density        pH  sulphates  \\\n",
       "fixed acidity                     0.089945  0.290890 -0.452254  -0.034397   \n",
       "volatile acidity                 -0.008338 -0.017716 -0.020118  -0.091873   \n",
       "citric acid                       0.132832  0.123602 -0.142096   0.080407   \n",
       "residual sugar                    0.410608  0.800518 -0.202572  -0.044165   \n",
       "chlorides                         0.249668  0.336599 -0.095332   0.049257   \n",
       "free sulfur dioxide               0.609156  0.253535  0.009701   0.159906   \n",
       "total sulfur dioxide              1.000000  0.547447  0.029441   0.157182   \n",
       "density                           0.547447  1.000000 -0.094401   0.065005   \n",
       "pH                                0.029441 -0.094401  1.000000   0.198060   \n",
       "sulphates                         0.157182  0.065005  0.198060   1.000000   \n",
       "alcohol                          -0.467077 -0.821279  0.109663  -0.021512   \n",
       "quality                          -0.091645 -0.320873  0.093974   0.028819   \n",
       "\n",
       "                       alcohol   quality  \n",
       "fixed acidity        -0.178733 -0.149701  \n",
       "volatile acidity      0.075972 -0.270637  \n",
       "citric acid          -0.007040  0.055588  \n",
       "residual sugar       -0.447238 -0.007361  \n",
       "chlorides            -0.387237 -0.252224  \n",
       "free sulfur dioxide  -0.174681  0.193370  \n",
       "total sulfur dioxide -0.467077 -0.091645  \n",
       "density              -0.821279 -0.320873  \n",
       "pH                    0.109663  0.093974  \n",
       "sulphates            -0.021512  0.028819  \n",
       "alcohol               1.000000  0.484688  \n",
       "quality               0.484688  1.000000  "
      ]
     },
     "execution_count": 59,
     "metadata": {},
     "output_type": "execute_result"
    }
   ],
   "source": [
    "normalized_df.corr()"
   ]
  },
  {
   "cell_type": "code",
   "execution_count": 70,
   "metadata": {},
   "outputs": [
    {
     "name": "stdout",
     "output_type": "stream",
     "text": [
      "   volatile acidity  chlorides  density  alcohol\n",
      "0              0.27      0.045   1.0010      8.8\n",
      "1              0.30      0.049   0.9940      9.5\n",
      "2              0.28      0.050   0.9951     10.1\n",
      "3              0.23      0.058   0.9956      9.9\n",
      "4              0.23      0.058   0.9956      9.9\n"
     ]
    }
   ],
   "source": [
    "#use volatile acidity(1), chloride(4), density(7), alcohol(10)\n",
    "ds1_4 = df.iloc[:, [1,4,7,10]]\n",
    "print (ds1_4.head())"
   ]
  },
  {
   "cell_type": "code",
   "execution_count": 71,
   "metadata": {},
   "outputs": [
    {
     "name": "stdout",
     "output_type": "stream",
     "text": [
      "<class 'numpy.ndarray'>\n",
      "[[ 0.27    0.045   1.001   8.8   ]\n",
      " [ 0.3     0.049   0.994   9.5   ]\n",
      " [ 0.28    0.05    0.9951 10.1   ]\n",
      " [ 0.23    0.058   0.9956  9.9   ]\n",
      " [ 0.23    0.058   0.9956  9.9   ]]\n"
     ]
    }
   ],
   "source": [
    "x = df.iloc[:, [1,4,7,10]].values\n",
    "print(type(x))\n",
    "print(x[0:5,:])"
   ]
  },
  {
   "cell_type": "code",
   "execution_count": 72,
   "metadata": {},
   "outputs": [],
   "source": [
    "km2 = KMeans(n_clusters = 2, init = 'k-means++', max_iter = 300, n_init = 10, random_state = 0)\n",
    "\n",
    "km2.fit(x)\n",
    "y_kmeans = km2.fit_predict(x)"
   ]
  },
  {
   "cell_type": "code",
   "execution_count": 73,
   "metadata": {},
   "outputs": [
    {
     "data": {
      "text/html": [
       "<div>\n",
       "<style scoped>\n",
       "    .dataframe tbody tr th:only-of-type {\n",
       "        vertical-align: middle;\n",
       "    }\n",
       "\n",
       "    .dataframe tbody tr th {\n",
       "        vertical-align: top;\n",
       "    }\n",
       "\n",
       "    .dataframe thead th {\n",
       "        text-align: right;\n",
       "    }\n",
       "</style>\n",
       "<table border=\"1\" class=\"dataframe\">\n",
       "  <thead>\n",
       "    <tr style=\"text-align: right;\">\n",
       "      <th></th>\n",
       "      <th>volatile acidity</th>\n",
       "      <th>chlorides</th>\n",
       "      <th>density</th>\n",
       "      <th>alcohol</th>\n",
       "    </tr>\n",
       "  </thead>\n",
       "  <tbody>\n",
       "    <tr>\n",
       "      <th>9</th>\n",
       "      <td>0.22</td>\n",
       "      <td>0.044</td>\n",
       "      <td>0.9938</td>\n",
       "      <td>11.0</td>\n",
       "    </tr>\n",
       "    <tr>\n",
       "      <th>10</th>\n",
       "      <td>0.27</td>\n",
       "      <td>0.033</td>\n",
       "      <td>0.9908</td>\n",
       "      <td>12.0</td>\n",
       "    </tr>\n",
       "    <tr>\n",
       "      <th>12</th>\n",
       "      <td>0.18</td>\n",
       "      <td>0.040</td>\n",
       "      <td>0.9920</td>\n",
       "      <td>10.8</td>\n",
       "    </tr>\n",
       "    <tr>\n",
       "      <th>13</th>\n",
       "      <td>0.16</td>\n",
       "      <td>0.044</td>\n",
       "      <td>0.9912</td>\n",
       "      <td>12.4</td>\n",
       "    </tr>\n",
       "    <tr>\n",
       "      <th>15</th>\n",
       "      <td>0.17</td>\n",
       "      <td>0.032</td>\n",
       "      <td>0.9914</td>\n",
       "      <td>11.4</td>\n",
       "    </tr>\n",
       "  </tbody>\n",
       "</table>\n",
       "</div>"
      ],
      "text/plain": [
       "    volatile acidity  chlorides  density  alcohol\n",
       "9               0.22      0.044   0.9938     11.0\n",
       "10              0.27      0.033   0.9908     12.0\n",
       "12              0.18      0.040   0.9920     10.8\n",
       "13              0.16      0.044   0.9912     12.4\n",
       "15              0.17      0.032   0.9914     11.4"
      ]
     },
     "execution_count": 73,
     "metadata": {},
     "output_type": "execute_result"
    }
   ],
   "source": [
    "ds1_4[y_kmeans==0].head()"
   ]
  },
  {
   "cell_type": "code",
   "execution_count": 74,
   "metadata": {},
   "outputs": [
    {
     "data": {
      "image/png": "[encoded data removed]",
      "text/plain": [
       "<Figure size 432x288 with 1 Axes>"
      ]
     },
     "metadata": {
      "needs_background": "light"
     },
     "output_type": "display_data"
    }
   ],
   "source": [
    "#Finding the optimum number of clusters for k-means classification\n",
    "from sklearn.cluster import KMeans\n",
    "wcss = []\n",
    "\n",
    "# Trying kmeans for k=1 to k=10\n",
    "for i in range(1, 11):\n",
    "    kmeans = KMeans(n_clusters = i, init = 'k-means++', max_iter = 300, n_init = 10, random_state = 0)\n",
    "    kmeans.fit(x)\n",
    "    wcss.append(kmeans.inertia_)\n",
    "    \n",
    "#Plotting the results onto a line graph, allowing us to observe 'The elbow'\n",
    "plt.plot(range(1, 11), wcss)\n",
    "plt.title('The elbow method')\n",
    "plt.xlabel('Number of clusters')\n",
    "plt.ylabel('WCSS') #within cluster sum of squares\n",
    "plt.show()"
   ]
  },
  {
   "cell_type": "code",
   "execution_count": 75,
   "metadata": {},
   "outputs": [],
   "source": [
    "#k-means with 3 clusters\n",
    "\n",
    "#Applying kmeans to the dataset / Creating the kmeans classifier\n",
    "kmeans = KMeans(n_clusters = 3, init = 'k-means++', max_iter = 300, n_init = 10, random_state = 0)\n",
    "y_kmeans = kmeans.fit_predict(x)"
   ]
  },
  {
   "cell_type": "code",
   "execution_count": 76,
   "metadata": {},
   "outputs": [
    {
     "data": {
      "text/plain": [
       "<matplotlib.legend.Legend at 0x1ff3ae26e48>"
      ]
     },
     "execution_count": 76,
     "metadata": {},
     "output_type": "execute_result"
    },
    {
     "data": {
      "image/png": "[encoded data removed]",
      "text/plain": [
       "<Figure size 432x288 with 1 Axes>"
      ]
     },
     "metadata": {
      "needs_background": "light"
     },
     "output_type": "display_data"
    }
   ],
   "source": [
    "#Visualising the clusters\n",
    "plt.scatter(x[y_kmeans == 0, 0], x[y_kmeans == 0, 1], s = 20, c = 'red', label = 'Cluster 0')\n",
    "plt.scatter(x[y_kmeans == 1, 0], x[y_kmeans == 1, 1], s = 20, c = 'blue', label = 'Cluster 1')\n",
    "plt.scatter(x[y_kmeans == 2, 0], x[y_kmeans == 2, 1], s = 20, c = 'green', label = 'Cluster 2')\n",
    "\n",
    "#Plotting the centroids of the clusters\n",
    "plt.scatter(kmeans.cluster_centers_[:, 0], kmeans.cluster_centers_[:,1], s = 100, c = 'yellow', label = 'Centroids')\n",
    "\n",
    "plt.legend()"
   ]
  },
  {
   "cell_type": "code",
   "execution_count": 77,
   "metadata": {},
   "outputs": [
    {
     "data": {
      "image/png": "[encoded data removed]",
      "text/plain": [
       "<Figure size 432x288 with 1 Axes>"
      ]
     },
     "metadata": {
      "needs_background": "light"
     },
     "output_type": "display_data"
    }
   ],
   "source": [
    "#Visualising the clusters by selecting only column 3 and 4\n",
    "plt.scatter(x[y_kmeans == 0, 2], x[y_kmeans == 0, 3], s = 20, c = 'red', label = 'Cluster 1')\n",
    "plt.scatter(x[y_kmeans == 1, 2], x[y_kmeans == 1, 3], s = 20, c = 'blue', label = 'Cluster 2')\n",
    "plt.scatter(x[y_kmeans == 2, 2], x[y_kmeans == 2, 3], s = 20, c = 'green', label = 'Cluster 3')\n",
    "\n",
    "#Plotting the centroids of the clusters\n",
    "plt.scatter(km2.cluster_centers_[:, 2], km2.cluster_centers_[:,3], s = 50, c = 'yellow', label = 'Centroids')\n",
    "plt.title('Iris clusters based on Petal Features')\n",
    "plt.xlabel(df.columns[7])\n",
    "plt.ylabel(df.columns[10])\n",
    "\n",
    "plt.legend()\n",
    "plt.show()"
   ]
  },
  {
   "cell_type": "code",
   "execution_count": null,
   "metadata": {},
   "outputs": [],
   "source": [
    "x2 = df.iloc[:, [1,4,7,10]].values\n",
    "print(type(x))\n",
    "print(x[0:5,:])"
   ]
  }
 ],
 "metadata": {
  "kernelspec": {
   "display_name": "Python 3",
   "language": "python",
   "name": "python3"
  },
  "language_info": {
   "codemirror_mode": {
    "name": "ipython",
    "version": 3
   },
   "file_extension": ".py",
   "mimetype": "text/x-python",
   "name": "python",
   "nbconvert_exporter": "python",
   "pygments_lexer": "ipython3",
   "version": "3.7.3"
  }
 },
 "nbformat": 4,
 "nbformat_minor": 2
}
